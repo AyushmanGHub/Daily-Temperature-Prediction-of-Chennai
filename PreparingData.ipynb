{
 "cells": [
  {
   "cell_type": "code",
   "execution_count": 26,
   "metadata": {},
   "outputs": [],
   "source": [
    "# pip install fsspec"
   ]
  },
  {
   "cell_type": "code",
   "execution_count": 27,
   "metadata": {},
   "outputs": [],
   "source": [
    "# importing important libraries\n",
    "import pandas as pd\n",
    "import numpy as np"
   ]
  },
  {
   "cell_type": "code",
   "execution_count": 28,
   "metadata": {},
   "outputs": [],
   "source": [
    "#file_path = \"C:\\Users\\ayush\\Downloads\\proj\\Chennai_1990_2022_Madras.csv\"\n",
    "df = pd.read_csv(\"C://Users//ayush//Downloads//proj//Chennai_1990_2022_Madras.csv\")"
   ]
  },
  {
   "cell_type": "code",
   "execution_count": 29,
   "metadata": {},
   "outputs": [
    {
     "name": "stdout",
     "output_type": "stream",
     "text": [
      "         time  tavg  tmin  tmax  prcp\n",
      "0  01-01-1990  25.2  22.8  28.4   0.5\n",
      "1  02-01-1990  24.9  21.7  29.1   0.0\n",
      "2  03-01-1990  25.6  21.4  29.8   0.0\n",
      "3  04-01-1990  25.7   NaN  28.7   0.0\n",
      "4  05-01-1990  25.5  20.7  28.4   0.0\n",
      "             time  tavg  tmin  tmax  prcp\n",
      "11889  21-07-2022  28.4  24.5  32.8  21.1\n",
      "11890  22-07-2022  27.8  24.6  32.2  22.1\n",
      "11891  23-07-2022  27.4  24.7  32.6  18.6\n",
      "11892  24-07-2022  27.8  25.0  33.3   9.1\n",
      "11893  25-07-2022  28.1  25.4  32.6   2.9\n"
     ]
    }
   ],
   "source": [
    "print(df.head())\n",
    "print(df.tail())"
   ]
  },
  {
   "cell_type": "code",
   "execution_count": 30,
   "metadata": {},
   "outputs": [],
   "source": [
    "df1 = pd.read_csv(\"C://Users//ayush//Downloads//proj//chennai 2022-07-26 to 2024-09-21 - Copy.csv\")"
   ]
  },
  {
   "cell_type": "code",
   "execution_count": 37,
   "metadata": {},
   "outputs": [
    {
     "name": "stdout",
     "output_type": "stream",
     "text": [
      "      name    datetime  tempmax  tempmin  temp  feelslikemax  feelslikemin  \\\n",
      "0  chennai  26-07-2022     32.2     26.7  28.8          40.8          26.7   \n",
      "1  chennai  27-07-2022     33.1     26.3  29.9          43.8          26.3   \n",
      "2  chennai  28-07-2022     33.5     27.8  30.4          46.2          33.3   \n",
      "3  chennai  29-07-2022     34.0     27.9  30.6          47.3          33.3   \n",
      "4  chennai  30-07-2022     35.0     27.9  30.8          47.3          33.3   \n",
      "\n",
      "   feelslike   dew  humidity  ...  solarenergy  uvindex  severerisk  \\\n",
      "0       34.4  25.3      81.8  ...         16.6        9          30   \n",
      "1       37.0  26.0      80.0  ...         23.4        9          30   \n",
      "2       39.3  26.9      81.9  ...         26.9       10          60   \n",
      "3       39.5  26.9      81.2  ...         21.6        9          60   \n",
      "4       40.1  27.0      80.4  ...         26.3       10          60   \n",
      "\n",
      "               sunrise               sunset  moonphase        conditions  \\\n",
      "0  2022-07-26T05:52:57  2022-07-26T18:37:50       0.92  Partially cloudy   \n",
      "1  2022-07-27T05:53:11  2022-07-27T18:37:35       0.95  Partially cloudy   \n",
      "2  2022-07-28T05:53:25  2022-07-28T18:37:20       0.00  Partially cloudy   \n",
      "3  2022-07-29T05:53:38  2022-07-29T18:37:03       0.02  Partially cloudy   \n",
      "4  2022-07-30T05:53:51  2022-07-30T18:36:46       0.05  Partially cloudy   \n",
      "\n",
      "                         description               icon  \\\n",
      "0  Partly cloudy throughout the day.  partly-cloudy-day   \n",
      "1  Partly cloudy throughout the day.  partly-cloudy-day   \n",
      "2  Partly cloudy throughout the day.  partly-cloudy-day   \n",
      "3  Partly cloudy throughout the day.  partly-cloudy-day   \n",
      "4  Partly cloudy throughout the day.  partly-cloudy-day   \n",
      "\n",
      "                                           stations  \n",
      "0  23099_maritime,VOMM,43279099999,AUCE,43278099999  \n",
      "1  23099_maritime,VOMM,43279099999,AUCE,43278099999  \n",
      "2  23099_maritime,VOMM,43279099999,AUCE,43278099999  \n",
      "3  23099_maritime,VOMM,43279099999,AUCE,43278099999  \n",
      "4  23099_maritime,VOMM,43279099999,AUCE,43278099999  \n",
      "\n",
      "[5 rows x 33 columns]\n",
      "      name    datetime  tempmax  tempmin  temp  feelslikemax  feelslikemin  \\\n",
      "0  chennai  26-07-2022     32.2     26.7  28.8          40.8          26.7   \n",
      "1  chennai  27-07-2022     33.1     26.3  29.9          43.8          26.3   \n",
      "2  chennai  28-07-2022     33.5     27.8  30.4          46.2          33.3   \n",
      "3  chennai  29-07-2022     34.0     27.9  30.6          47.3          33.3   \n",
      "4  chennai  30-07-2022     35.0     27.9  30.8          47.3          33.3   \n",
      "\n",
      "   feelslike   dew  humidity  ...  solarenergy  uvindex  severerisk  \\\n",
      "0       34.4  25.3      81.8  ...         16.6        9          30   \n",
      "1       37.0  26.0      80.0  ...         23.4        9          30   \n",
      "2       39.3  26.9      81.9  ...         26.9       10          60   \n",
      "3       39.5  26.9      81.2  ...         21.6        9          60   \n",
      "4       40.1  27.0      80.4  ...         26.3       10          60   \n",
      "\n",
      "               sunrise               sunset  moonphase        conditions  \\\n",
      "0  2022-07-26T05:52:57  2022-07-26T18:37:50       0.92  Partially cloudy   \n",
      "1  2022-07-27T05:53:11  2022-07-27T18:37:35       0.95  Partially cloudy   \n",
      "2  2022-07-28T05:53:25  2022-07-28T18:37:20       0.00  Partially cloudy   \n",
      "3  2022-07-29T05:53:38  2022-07-29T18:37:03       0.02  Partially cloudy   \n",
      "4  2022-07-30T05:53:51  2022-07-30T18:36:46       0.05  Partially cloudy   \n",
      "\n",
      "                         description               icon  \\\n",
      "0  Partly cloudy throughout the day.  partly-cloudy-day   \n",
      "1  Partly cloudy throughout the day.  partly-cloudy-day   \n",
      "2  Partly cloudy throughout the day.  partly-cloudy-day   \n",
      "3  Partly cloudy throughout the day.  partly-cloudy-day   \n",
      "4  Partly cloudy throughout the day.  partly-cloudy-day   \n",
      "\n",
      "                                           stations  \n",
      "0  23099_maritime,VOMM,43279099999,AUCE,43278099999  \n",
      "1  23099_maritime,VOMM,43279099999,AUCE,43278099999  \n",
      "2  23099_maritime,VOMM,43279099999,AUCE,43278099999  \n",
      "3  23099_maritime,VOMM,43279099999,AUCE,43278099999  \n",
      "4  23099_maritime,VOMM,43279099999,AUCE,43278099999  \n",
      "\n",
      "[5 rows x 33 columns]\n"
     ]
    }
   ],
   "source": [
    "print(df1.head())\n",
    "print(df1.head())"
   ]
  },
  {
   "cell_type": "code",
   "execution_count": 32,
   "metadata": {},
   "outputs": [],
   "source": [
    "time = df1[\"datetime\"]\n",
    "tavg = df1[\"temp\"]\n",
    "tmin = df1[\"tempmin\"]\n",
    "tmax = df1[\"tempmax\"]\n",
    "prcp = df1[\"precip\"]\n",
    "\n",
    "column_names = [\"time\", \"tavg\",\"tmin\",\"tmax\",\"prcp\"]\n",
    "\n",
    "data = {\n",
    "    \"time\" : time,\n",
    "    \"tavg\" : tavg,\n",
    "    \"tmin\" : tmin,\n",
    "    \"tmax\" : tmax,\n",
    "    \"prcp\" : prcp\n",
    "}\n",
    "df2 = pd.DataFrame(data)"
   ]
  },
  {
   "cell_type": "code",
   "execution_count": 38,
   "metadata": {},
   "outputs": [
    {
     "data": {
      "text/html": [
       "<div>\n",
       "<style scoped>\n",
       "    .dataframe tbody tr th:only-of-type {\n",
       "        vertical-align: middle;\n",
       "    }\n",
       "\n",
       "    .dataframe tbody tr th {\n",
       "        vertical-align: top;\n",
       "    }\n",
       "\n",
       "    .dataframe thead th {\n",
       "        text-align: right;\n",
       "    }\n",
       "</style>\n",
       "<table border=\"1\" class=\"dataframe\">\n",
       "  <thead>\n",
       "    <tr style=\"text-align: right;\">\n",
       "      <th></th>\n",
       "      <th>time</th>\n",
       "      <th>tavg</th>\n",
       "      <th>tmin</th>\n",
       "      <th>tmax</th>\n",
       "      <th>prcp</th>\n",
       "    </tr>\n",
       "  </thead>\n",
       "  <tbody>\n",
       "    <tr>\n",
       "      <th>784</th>\n",
       "      <td>17-09-2024</td>\n",
       "      <td>32.5</td>\n",
       "      <td>29.0</td>\n",
       "      <td>38.0</td>\n",
       "      <td>0.1</td>\n",
       "    </tr>\n",
       "    <tr>\n",
       "      <th>785</th>\n",
       "      <td>18-09-2024</td>\n",
       "      <td>32.0</td>\n",
       "      <td>29.0</td>\n",
       "      <td>36.0</td>\n",
       "      <td>1.5</td>\n",
       "    </tr>\n",
       "    <tr>\n",
       "      <th>786</th>\n",
       "      <td>19-09-2024</td>\n",
       "      <td>30.8</td>\n",
       "      <td>28.0</td>\n",
       "      <td>34.0</td>\n",
       "      <td>0.9</td>\n",
       "    </tr>\n",
       "    <tr>\n",
       "      <th>787</th>\n",
       "      <td>20-09-2024</td>\n",
       "      <td>32.2</td>\n",
       "      <td>29.0</td>\n",
       "      <td>38.0</td>\n",
       "      <td>0.3</td>\n",
       "    </tr>\n",
       "    <tr>\n",
       "      <th>788</th>\n",
       "      <td>21-09-2024</td>\n",
       "      <td>28.9</td>\n",
       "      <td>26.0</td>\n",
       "      <td>34.0</td>\n",
       "      <td>4.5</td>\n",
       "    </tr>\n",
       "  </tbody>\n",
       "</table>\n",
       "</div>"
      ],
      "text/plain": [
       "           time  tavg  tmin  tmax  prcp\n",
       "784  17-09-2024  32.5  29.0  38.0   0.1\n",
       "785  18-09-2024  32.0  29.0  36.0   1.5\n",
       "786  19-09-2024  30.8  28.0  34.0   0.9\n",
       "787  20-09-2024  32.2  29.0  38.0   0.3\n",
       "788  21-09-2024  28.9  26.0  34.0   4.5"
      ]
     },
     "execution_count": 38,
     "metadata": {},
     "output_type": "execute_result"
    }
   ],
   "source": [
    "df2.head()\n",
    "df2.tail()"
   ]
  },
  {
   "cell_type": "code",
   "execution_count": 34,
   "metadata": {},
   "outputs": [],
   "source": [
    "df_concat = pd.concat([df, df2], axis=0, ignore_index=True)"
   ]
  },
  {
   "cell_type": "code",
   "execution_count": 39,
   "metadata": {},
   "outputs": [
    {
     "name": "stdout",
     "output_type": "stream",
     "text": [
      "         time  tavg  tmin  tmax  prcp\n",
      "0  01-01-1990  25.2  22.8  28.4   0.5\n",
      "1  02-01-1990  24.9  21.7  29.1   0.0\n",
      "2  03-01-1990  25.6  21.4  29.8   0.0\n",
      "3  04-01-1990  25.7   NaN  28.7   0.0\n",
      "4  05-01-1990  25.5  20.7  28.4   0.0\n",
      "             time  tavg  tmin  tmax  prcp\n",
      "11889  21-07-2022  28.4  24.5  32.8  21.1\n",
      "11890  22-07-2022  27.8  24.6  32.2  22.1\n",
      "11891  23-07-2022  27.4  24.7  32.6  18.6\n",
      "11892  24-07-2022  27.8  25.0  33.3   9.1\n",
      "11893  25-07-2022  28.1  25.4  32.6   2.9\n",
      "         time  tavg  tmin  tmax  prcp\n",
      "0  01-01-1990  25.2  22.8  28.4   0.5\n",
      "1  02-01-1990  24.9  21.7  29.1   0.0\n",
      "2  03-01-1990  25.6  21.4  29.8   0.0\n",
      "3  04-01-1990  25.7   NaN  28.7   0.0\n",
      "4  05-01-1990  25.5  20.7  28.4   0.0\n",
      "             time  tavg  tmin  tmax  prcp\n",
      "12678  17-09-2024  32.5  29.0  38.0   0.1\n",
      "12679  18-09-2024  32.0  29.0  36.0   1.5\n",
      "12680  19-09-2024  30.8  28.0  34.0   0.9\n",
      "12681  20-09-2024  32.2  29.0  38.0   0.3\n",
      "12682  21-09-2024  28.9  26.0  34.0   4.5\n"
     ]
    }
   ],
   "source": [
    "print(df.head())\n",
    "print(df.tail())\n",
    "\n",
    "\n",
    "print(df_concat.head())\n",
    "print(df_concat.tail())"
   ]
  },
  {
   "cell_type": "code",
   "execution_count": 36,
   "metadata": {},
   "outputs": [],
   "source": [
    "#\"C:\\Users\\ayush\\Downloads\\proj\\Chennai_temp.csv\"\n",
    "df_concat.to_csv(\"C://Users//ayush//Downloads//proj//chennai_temp.csv\", index=False)"
   ]
  }
 ],
 "metadata": {
  "kernelspec": {
   "display_name": "Python 3",
   "language": "python",
   "name": "python3"
  },
  "language_info": {
   "codemirror_mode": {
    "name": "ipython",
    "version": 3
   },
   "file_extension": ".py",
   "mimetype": "text/x-python",
   "name": "python",
   "nbconvert_exporter": "python",
   "pygments_lexer": "ipython3",
   "version": "3.12.5"
  }
 },
 "nbformat": 4,
 "nbformat_minor": 2
}
